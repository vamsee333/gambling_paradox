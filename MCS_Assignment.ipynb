{
 "cells": [
  {
   "cell_type": "markdown",
   "metadata": {},
   "source": [
    "# Monte coale Simulation"
   ]
  },
  {
   "cell_type": "code",
   "execution_count": 1,
   "metadata": {},
   "outputs": [],
   "source": [
    "import random"
   ]
  },
  {
   "cell_type": "code",
   "execution_count": 2,
   "metadata": {},
   "outputs": [],
   "source": [
    "initial_prize=2\n",
    "possible_outcomes=['H','T']"
   ]
  },
  {
   "cell_type": "code",
   "execution_count": 18,
   "metadata": {},
   "outputs": [
    {
     "name": "stdin",
     "output_type": "stream",
     "text": [
      "enter entry fee 5\n",
      "enter no of games you wanna play 3\n"
     ]
    }
   ],
   "source": [
    "entry_fee=int(input(\"enter entry fee\"))\n",
    "total_games=int(input(\"enter no of games you wanna play\"))"
   ]
  },
  {
   "cell_type": "code",
   "execution_count": 19,
   "metadata": {},
   "outputs": [
    {
     "name": "stdin",
     "output_type": "stream",
     "text": [
      "enter no of runs 5\n"
     ]
    }
   ],
   "source": [
    "total_runs=int(input('enter no of runs'))"
   ]
  },
  {
   "cell_type": "code",
   "execution_count": 20,
   "metadata": {},
   "outputs": [],
   "source": [
    "def double_price(current_prize):\n",
    "        return current_prize*2"
   ]
  },
  {
   "cell_type": "code",
   "execution_count": 21,
   "metadata": {},
   "outputs": [],
   "source": [
    "def flip_coin():\n",
    "    side=random.choices(possible_outcomes,k=1)\n",
    "    return side"
   ]
  },
  {
   "cell_type": "code",
   "execution_count": 22,
   "metadata": {},
   "outputs": [
    {
     "name": "stdout",
     "output_type": "stream",
     "text": [
      "['H']\n",
      "you have won 2 pounds in 1th attempt\n",
      "['T']\n",
      "['H']\n",
      "you have won 4 pounds in 2th attempt\n",
      "['H']\n",
      "you have won 2 pounds in 3th attempt\n",
      "---------------------------------------------------\n",
      "You have totally won 8 pounds out of 3 attemps\n",
      "you have invested a total of 15 pounds for 3 games\n",
      "Opps! you have lost 7 pounds\n",
      "round 1 score - 8\n",
      "------------------------------------------------------\n",
      "['H']\n",
      "you have won 2 pounds in 1th attempt\n",
      "['T']\n",
      "['H']\n",
      "you have won 4 pounds in 2th attempt\n",
      "['H']\n",
      "you have won 2 pounds in 3th attempt\n",
      "---------------------------------------------------\n",
      "You have totally won 8 pounds out of 3 attemps\n",
      "you have invested a total of 15 pounds for 3 games\n",
      "Opps! you have lost 7 pounds\n",
      "round 2 score - 8\n",
      "------------------------------------------------------\n",
      "['T']\n",
      "['H']\n",
      "you have won 4 pounds in 1th attempt\n",
      "['T']\n",
      "['H']\n",
      "you have won 4 pounds in 2th attempt\n",
      "['H']\n",
      "you have won 2 pounds in 3th attempt\n",
      "---------------------------------------------------\n",
      "You have totally won 10 pounds out of 3 attemps\n",
      "you have invested a total of 15 pounds for 3 games\n",
      "Opps! you have lost 5 pounds\n",
      "round 3 score - 10\n",
      "------------------------------------------------------\n",
      "['H']\n",
      "you have won 2 pounds in 1th attempt\n",
      "['T']\n",
      "['T']\n",
      "['T']\n",
      "['H']\n",
      "you have won 16 pounds in 2th attempt\n",
      "['T']\n",
      "['H']\n",
      "you have won 4 pounds in 3th attempt\n",
      "---------------------------------------------------\n",
      "You have totally won 22 pounds out of 3 attemps\n",
      "you have invested a total of 15 pounds for 3 games\n",
      "Congrats! you have made a profit of 7 pounds\n",
      "round 4 score - 22\n",
      "------------------------------------------------------\n",
      "['T']\n",
      "['H']\n",
      "you have won 4 pounds in 1th attempt\n",
      "['H']\n",
      "you have won 2 pounds in 2th attempt\n",
      "['H']\n",
      "you have won 2 pounds in 3th attempt\n",
      "---------------------------------------------------\n",
      "You have totally won 8 pounds out of 3 attemps\n",
      "you have invested a total of 15 pounds for 3 games\n",
      "Opps! you have lost 7 pounds\n",
      "round 5 score - 8\n",
      "------------------------------------------------------\n",
      "your have lost an average of 3.8000000000000007 for 5 runs\n"
     ]
    }
   ],
   "source": [
    "\n",
    "occurances=[]\n",
    "sum_all_round_averages=0\n",
    "for run in range(total_runs):\n",
    "    final_average=0\n",
    "    total_run_average=0\n",
    "    for i in range(total_games):\n",
    "        final_money=2\n",
    "        random_result= flip_coin()\n",
    "        print(random_result)\n",
    "        while 'T' in random_result:\n",
    "            final_money=double_price(final_money)\n",
    "            random_result=flip_coin()\n",
    "            print(random_result)\n",
    "        print(f\"you have won {final_money} pounds in {i+1}th attempt\")\n",
    "        final_average=final_average+final_money\n",
    "        \n",
    "        #print(final_money)\n",
    "        #occurances.append(final_money)\n",
    "    print('---------------------------------------------------')\n",
    "    print(f'You have totally won {final_average} pounds out of {total_games} attemps')\n",
    "\n",
    "    total_investment=entry_fee*total_games\n",
    "    \n",
    "    print(f'you have invested a total of {total_investment} pounds for {total_games} games')\n",
    "    if total_investment < final_average:\n",
    "        print(f'Congrats! you have made a profit of { (final_average - total_investment) } pounds')\n",
    "    else:\n",
    "        print(f'Opps! you have lost { (total_investment - final_average)} pounds')\n",
    "        \n",
    "    total_run_average=total_run_average+final_average\n",
    "    print(f'round {run+1} score - {total_run_average}')\n",
    "    occurances.append(total_run_average)\n",
    "    sum_all_round_averages=sum_all_round_averages+total_run_average\n",
    "    print('------------------------------------------------------')\n",
    "\n",
    "total_run_big_average = sum_all_round_averages/total_runs\n",
    "        \n",
    "if total_run_big_average<total_investment:\n",
    "    print(f'your have lost an average of { total_investment - total_run_big_average} for {total_runs} runs')\n",
    "else:\n",
    "    print(f'you have gained an average of { total_run_big_average} for {total_runs} runs')\n",
    "\n",
    "  \n",
    "\n"
   ]
  },
  {
   "cell_type": "code",
   "execution_count": 1,
   "metadata": {},
   "outputs": [
    {
     "data": {
      "text/plain": [
       "30"
      ]
     },
     "execution_count": 1,
     "metadata": {},
     "output_type": "execute_result"
    }
   ],
   "source": []
  },
  {
   "cell_type": "code",
   "execution_count": null,
   "metadata": {},
   "outputs": [],
   "source": []
  }
 ],
 "metadata": {
  "kernelspec": {
   "display_name": "Python 3",
   "language": "python",
   "name": "python3"
  },
  "language_info": {
   "codemirror_mode": {
    "name": "ipython",
    "version": 3
   },
   "file_extension": ".py",
   "mimetype": "text/x-python",
   "name": "python",
   "nbconvert_exporter": "python",
   "pygments_lexer": "ipython3",
   "version": "3.8.5"
  }
 },
 "nbformat": 4,
 "nbformat_minor": 4
}
